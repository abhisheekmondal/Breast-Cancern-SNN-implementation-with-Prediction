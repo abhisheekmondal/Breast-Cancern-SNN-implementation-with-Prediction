{
 "cells": [
  {
   "cell_type": "code",
   "execution_count": 1,
   "metadata": {
    "collapsed": true
   },
   "outputs": [],
   "source": [
    "import numpy as np\n",
    "import pandas as pd\n",
    "from sklearn.model_selection import train_test_split\n",
    "from sklearn.datasets import load_breast_cancer"
   ]
  },
  {
   "cell_type": "code",
   "execution_count": 2,
   "metadata": {
    "collapsed": true
   },
   "outputs": [],
   "source": [
    "def initialiseNetwork(num_features):\n",
    "    W = np.zeros((num_features, 1))\n",
    "    b = 0\n",
    "    parameters = {\"W\": W, \"b\": b}\n",
    "    return parameters"
   ]
  },
  {
   "cell_type": "code",
   "execution_count": 3,
   "metadata": {
    "collapsed": true
   },
   "outputs": [],
   "source": [
    "def sigmoid(z):\n",
    "    return 1/(1 + np.exp(-z))"
   ]
  },
  {
   "cell_type": "code",
   "execution_count": 4,
   "metadata": {
    "collapsed": true
   },
   "outputs": [],
   "source": [
    "def forwardPropagation(X, Y, parameters):\n",
    "    W = parameters[\"W\"]\n",
    "    b = parameters[\"b\"]\n",
    "    Z = np.dot(W.T,X) + b\n",
    "    A = sigmoid(Z)\n",
    "    return A"
   ]
  },
  {
   "cell_type": "code",
   "execution_count": 5,
   "metadata": {
    "collapsed": true
   },
   "outputs": [],
   "source": [
    "def cost(A, Y, num_samples):\n",
    "    return -1/num_samples *np.sum(Y*np.log(A) + (1-Y)*(np.log(1-A)))"
   ]
  },
  {
   "cell_type": "code",
   "execution_count": 6,
   "metadata": {
    "collapsed": true
   },
   "outputs": [],
   "source": [
    "def backPropagration(X, Y, A, num_samples):\n",
    "    dZ = A - Y\n",
    "    dW = (np.dot(X,dZ.T))/num_samples\n",
    "    db = np.sum(dZ)/num_samples\n",
    "    return dW, db"
   ]
  },
  {
   "cell_type": "code",
   "execution_count": 21,
   "metadata": {
    "collapsed": true
   },
   "outputs": [],
   "source": [
    "def updateParameters(parameters, dW, db, learning_rate):\n",
    "    W = parameters[\"W\"] - (learning_rate * dW)\n",
    "    b = parameters[\"b\"] - (learning_rate * db)\n",
    "    return {\"W\": W, \"b\": b}\n"
   ]
  },
  {
   "cell_type": "code",
   "execution_count": 7,
   "metadata": {
    "collapsed": true
   },
   "outputs": [],
   "source": [
    "def model(X, Y, num_iter, learning_rate):\n",
    "    num_features = X.shape[0]\n",
    "    num_samples = float(X.shape[1])\n",
    "    parameters = initialiseNetwork(num_features)\n",
    "    for i in range(num_iter):\n",
    "        A = forwardPropagation(X, Y, parameters)\n",
    "        if(i%100 == 0):\n",
    "            print(\"cost after {} iteration: {}\".format(i, cost(A, Y, num_samples)))\n",
    "        dW, db = backPropagration(X, Y, A, num_samples)\n",
    "        parameters = updateParameters(parameters, dW, db, learning_rate)\n",
    "    return parameters\n"
   ]
  },
  {
   "cell_type": "code",
   "execution_count": 8,
   "metadata": {
    "collapsed": true
   },
   "outputs": [],
   "source": [
    "def predict(W, b, X):\n",
    "    Z = np.dot(W.T,X) + b\n",
    "    Y = np.array([1 if y > 0.5 else 0 for y in sigmoid(Z[0])]).reshape(1,len(Z[0]))\n",
    "    return Y"
   ]
  },
  {
   "cell_type": "code",
   "execution_count": 9,
   "metadata": {
    "collapsed": true
   },
   "outputs": [],
   "source": [
    "(X_cancer, y_cancer) = load_breast_cancer(return_X_y = True)"
   ]
  },
  {
   "cell_type": "code",
   "execution_count": 10,
   "metadata": {
    "collapsed": true
   },
   "outputs": [],
   "source": [
    "X_train, X_test, y_train, y_test = train_test_split(X_cancer, y_cancer,\n",
    "                                                   random_state = 25)"
   ]
  },
  {
   "cell_type": "code",
   "execution_count": 11,
   "metadata": {
    "collapsed": true
   },
   "outputs": [],
   "source": [
    "def normalize(data):\n",
    "    col_max = np.max(data, axis = 0)\n",
    "    col_min = np.min(data, axis = 0)\n",
    "    return np.divide(data - col_min, col_max - col_min)"
   ]
  },
  {
   "cell_type": "code",
   "execution_count": 13,
   "metadata": {},
   "outputs": [
    {
     "name": "stdout",
     "output_type": "stream",
     "text": [
      "(426, 30)\n",
      "(143, 30)\n"
     ]
    }
   ],
   "source": [
    "X_train_n = normalize(X_train)\n",
    "X_test_n = normalize(X_test)\n",
    "print(X_train_n.shape)\n",
    "print(X_test_n.shape)"
   ]
  },
  {
   "cell_type": "code",
   "execution_count": 14,
   "metadata": {},
   "outputs": [
    {
     "name": "stdout",
     "output_type": "stream",
     "text": [
      "(30, 426)\n",
      "(30, 143)\n"
     ]
    }
   ],
   "source": [
    "X_trainT = X_train_n.T\n",
    "X_testT = X_test_n.T\n",
    "print(X_trainT.shape)\n",
    "print(X_testT.shape)"
   ]
  },
  {
   "cell_type": "code",
   "execution_count": 17,
   "metadata": {},
   "outputs": [
    {
     "name": "stdout",
     "output_type": "stream",
     "text": [
      "(426,)\n",
      "(143,)\n"
     ]
    }
   ],
   "source": [
    "print(y_train.shape)\n",
    "print(y_test.shape)"
   ]
  },
  {
   "cell_type": "code",
   "execution_count": 19,
   "metadata": {},
   "outputs": [
    {
     "name": "stdout",
     "output_type": "stream",
     "text": [
      "(1, 426)\n",
      "(1, 143)\n"
     ]
    }
   ],
   "source": [
    "y_trainT = y_train.reshape(1,426)\n",
    "y_testT = y_test.reshape(1,143)\n",
    "print(y_trainT.shape)\n",
    "print(y_testT.shape)"
   ]
  },
  {
   "cell_type": "code",
   "execution_count": 22,
   "metadata": {},
   "outputs": [
    {
     "name": "stdout",
     "output_type": "stream",
     "text": [
      "cost after 0 iteration: 0.6931471805599453\n",
      "cost after 100 iteration: 0.24382767353051088\n",
      "cost after 200 iteration: 0.18414919195134818\n",
      "cost after 300 iteration: 0.1565873493485997\n",
      "cost after 400 iteration: 0.1396752246321806\n",
      "cost after 500 iteration: 0.1278729526958286\n",
      "cost after 600 iteration: 0.1190088775113677\n",
      "cost after 700 iteration: 0.11202667072700777\n",
      "cost after 800 iteration: 0.10633924623930972\n",
      "cost after 900 iteration: 0.10158933661241841\n",
      "cost after 1000 iteration: 0.09754476494426205\n",
      "cost after 1100 iteration: 0.0940469433647547\n",
      "cost after 1200 iteration: 0.09098323338346233\n",
      "cost after 1300 iteration: 0.08827107206470108\n",
      "cost after 1400 iteration: 0.08584834873491791\n",
      "cost after 1500 iteration: 0.08366730760137953\n",
      "cost after 1600 iteration: 0.08169053991796828\n",
      "cost after 1700 iteration: 0.07988826663984762\n",
      "cost after 1800 iteration: 0.0782364464730404\n",
      "cost after 1900 iteration: 0.07671542796224083\n",
      "cost after 2000 iteration: 0.07530896965280097\n",
      "cost after 2100 iteration: 0.07400351504064749\n",
      "cost after 2200 iteration: 0.07278764749502994\n",
      "cost after 2300 iteration: 0.0716516746189091\n",
      "cost after 2400 iteration: 0.07058730721875792\n",
      "cost after 2500 iteration: 0.0695874084434528\n",
      "cost after 2600 iteration: 0.06864579565976343\n",
      "cost after 2700 iteration: 0.06775708244509036\n",
      "cost after 2800 iteration: 0.06691655143817629\n",
      "cost after 2900 iteration: 0.06612005116932483\n",
      "cost after 3000 iteration: 0.06536391170175197\n",
      "cost after 3100 iteration: 0.06464487515951275\n",
      "cost after 3200 iteration: 0.06396003813267387\n",
      "cost after 3300 iteration: 0.06330680363111521\n",
      "cost after 3400 iteration: 0.06268284076971896\n",
      "cost after 3500 iteration: 0.06208605075546859\n",
      "cost after 3600 iteration: 0.061514538043587336\n",
      "cost after 3700 iteration: 0.06096658575859407\n",
      "cost after 3800 iteration: 0.060440634653931374\n",
      "cost after 3900 iteration: 0.059935265022990604\n"
     ]
    }
   ],
   "source": [
    "parameters = model(X_trainT, y_trainT, 4000, 0.75)"
   ]
  },
  {
   "cell_type": "code",
   "execution_count": 23,
   "metadata": {},
   "outputs": [
    {
     "name": "stdout",
     "output_type": "stream",
     "text": [
      "{'W': array([[-1.58455606],\n",
      "       [-2.40924914],\n",
      "       [-1.66149449],\n",
      "       [-2.67137327],\n",
      "       [ 0.7663745 ],\n",
      "       [ 0.13736327],\n",
      "       [-4.60035536],\n",
      "       [-5.75816403],\n",
      "       [-0.42539435],\n",
      "       [ 3.91327216],\n",
      "       [-3.26972938],\n",
      "       [ 1.36829576],\n",
      "       [-2.06525156],\n",
      "       [-2.41978688],\n",
      "       [-1.3430973 ],\n",
      "       [ 2.70019395],\n",
      "       [ 0.55199124],\n",
      "       [ 1.17146685],\n",
      "       [ 0.51217921],\n",
      "       [ 1.88542175],\n",
      "       [-5.18142462],\n",
      "       [-5.40012744],\n",
      "       [-4.48583887],\n",
      "       [-4.59617795],\n",
      "       [-3.34899524],\n",
      "       [-1.20950225],\n",
      "       [-3.67728035],\n",
      "       [-5.02114259],\n",
      "       [-3.11319132],\n",
      "       [-0.20109589]]), 'b': 14.520237920116649}\n"
     ]
    }
   ],
   "source": [
    "print(parameters)"
   ]
  },
  {
   "cell_type": "code",
   "execution_count": 26,
   "metadata": {},
   "outputs": [],
   "source": [
    "yPredTrain = predict(parameters['W'],parameters['b'],X_trainT)   # pass weigths and bias from parameters dictionary and X_trainT as input to the function\n",
    "yPredTest = predict(parameters['W'],parameters['b'],X_testT)    # pass the same parameters but X_testT as input data"
   ]
  },
  {
   "cell_type": "code",
   "execution_count": 27,
   "metadata": {},
   "outputs": [
    {
     "name": "stdout",
     "output_type": "stream",
     "text": [
      "train accuracy: 98.59154929577464 %\n",
      "test accuracy: 93.00699300699301 %\n"
     ]
    }
   ],
   "source": [
    "accuracy_train = 100 - np.mean(np.abs(yPredTrain - y_trainT)) * 100\n",
    "accuracy_test = 100 - np.mean(np.abs(yPredTest - y_testT)) * 100\n",
    "print(\"train accuracy: {} %\".format(accuracy_train))\n",
    "print(\"test accuracy: {} %\".format(accuracy_test))\n",
    "with open(\"Output.txt\", \"w\") as text_file:\n",
    "    text_file.write(\"train= %f\\n\" % accuracy_train)\n",
    "    text_file.write(\"test= %f\" % accuracy_test)"
   ]
  },
  {
   "cell_type": "code",
   "execution_count": null,
   "metadata": {
    "collapsed": true
   },
   "outputs": [],
   "source": []
  }
 ],
 "metadata": {
  "kernelspec": {
   "display_name": "Python 3",
   "language": "python",
   "name": "python3"
  },
  "language_info": {
   "codemirror_mode": {
    "name": "ipython",
    "version": 3
   },
   "file_extension": ".py",
   "mimetype": "text/x-python",
   "name": "python",
   "nbconvert_exporter": "python",
   "pygments_lexer": "ipython3",
   "version": "3.6.3"
  }
 },
 "nbformat": 4,
 "nbformat_minor": 2
}
